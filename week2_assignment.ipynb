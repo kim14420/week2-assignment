{
  "nbformat": 4,
  "nbformat_minor": 0,
  "metadata": {
    "colab": {
      "provenance": [],
      "collapsed_sections": []
    },
    "kernelspec": {
      "name": "python3",
      "display_name": "Python 3"
    },
    "language_info": {
      "name": "python"
    }
  },
  "cells": [
    {
      "cell_type": "code",
      "execution_count": 12,
      "metadata": {
        "colab": {
          "base_uri": "https://localhost:8080/"
        },
        "id": "YGRdM5nk_Mtq",
        "outputId": "8063bb0e-89ba-4307-bde7-1f91c006cd62"
      },
      "outputs": [
        {
          "output_type": "stream",
          "name": "stdout",
          "text": [
            "부모님으로 부터 받은 용돈:10000\n",
            "거스름돈 : 6450 원\n",
            "500원 짜리 거스름돈 : 12개\n",
            "100원 짜리 거스름돈 : 4개\n",
            "50원 짜리 거스름돈 : 1개\n"
          ]
        }
      ],
      "source": [
        "poketmoney = input(\"부모님으로 부터 받은 용돈:\")\n",
        "change = int(poketmoney) - 3550\n",
        "print (\"거스름돈 :\",change, \"원\")\n",
        "print (\"500원 짜리 거스름돈 : \",change // 500, \"개\", sep = ''); change = change % 500\n",
        "print (\"100원 짜리 거스름돈 : \",change // 100, \"개\", sep = ''); change = change % 100\n",
        "print (\"50원 짜리 거스름돈 : \",change // 50, \"개\", sep = '')\n",
        "\n"
      ]
    },
    {
      "cell_type": "code",
      "source": [
        "alpha = ord(input(\"알파벳을 입력하시요 : \"))\n",
        "\n",
        "if (alpha >= 65 and alpha <= 90) or (alpha >= 97 and alpha <= 122):\n",
        "  message = \"대문자입니다.\" if (alpha >= 65 and alpha <= 90) else \"소문자입니다.\"\n",
        "  print (f\"당신이 입력한 문자 {chr(alpha)}는\", message)\n",
        "\n",
        "else :\n",
        "  print (f\"당신이 입력한 문자 {chr(alpha)}은 알파벳이 아닙니다.\")\n",
        "\n"
      ],
      "metadata": {
        "colab": {
          "base_uri": "https://localhost:8080/"
        },
        "id": "5oMfdC4COkh9",
        "outputId": "1da30f65-4289-43ee-caee-b05d6421fe84"
      },
      "execution_count": 9,
      "outputs": [
        {
          "output_type": "stream",
          "name": "stdout",
          "text": [
            "알파벳을 입력하시요 : A\n",
            "당신이 입력한 문자 A는 대문자입니다.\n"
          ]
        }
      ]
    }
  ]
}