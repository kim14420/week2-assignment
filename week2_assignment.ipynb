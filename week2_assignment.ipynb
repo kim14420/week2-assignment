{
  "nbformat": 4,
  "nbformat_minor": 0,
  "metadata": {
    "colab": {
      "provenance": [],
      "collapsed_sections": []
    },
    "kernelspec": {
      "name": "python3",
      "display_name": "Python 3"
    },
    "language_info": {
      "name": "python"
    }
  },
  "cells": [
    {
      "cell_type": "code",
      "execution_count": 1,
      "metadata": {
        "colab": {
          "base_uri": "https://localhost:8080/"
        },
        "id": "YGRdM5nk_Mtq",
        "outputId": "52205b86-f4e3-4350-e5ec-91ad4618fdfc"
      },
      "outputs": [
        {
          "output_type": "stream",
          "name": "stdout",
          "text": [
            "부모님으로 부터 받은 용돈: 10000\n",
            "거스름돈 : 6450\n",
            "500원 짜리 거스름돈 : 12\n",
            "100원 짜리 거스름돈 : 4\n",
            "50원 짜리 거스름돈 : 1\n"
          ]
        }
      ],
      "source": [
        "poketmoney = input(\"부모님으로 부터 받은 용돈: \")\n",
        "change = int(poketmoney) - 3550\n",
        "print (\"거스름돈 :\",change)\n",
        "print (\"500원 짜리 거스름돈 :\",change // 500); change = change % 500\n",
        "print (\"100원 짜리 거스름돈 :\",change // 100); change = change % 100\n",
        "print (\"50원 짜리 거스름돈 :\",change // 50)\n",
        "\n"
      ]
    },
    {
      "cell_type": "code",
      "source": [
        "alpha = ord(input(\"알파벳을 입력하시오.\"))\n",
        "\n",
        "if (alpha >= 65 and alpha <= 90) or (alpha >= 97 and alpha <= 122):\n",
        "  message = \"대문자입니다.\" if (alpha >= 65 and alpha <= 90) else \"소문자입니다.\"\n",
        "  print (f\"{chr(alpha)}는\", message)\n",
        "\n",
        "else :\n",
        "  print (f\"{chr(alpha)}은 알파벳이 아닙니다.\")\n",
        "\n"
      ],
      "metadata": {
        "colab": {
          "base_uri": "https://localhost:8080/"
        },
        "id": "5oMfdC4COkh9",
        "outputId": "6741aa8d-80b7-4b37-b977-b1bb2deee764"
      },
      "execution_count": 3,
      "outputs": [
        {
          "output_type": "stream",
          "name": "stdout",
          "text": [
            "알파벳을 입력하시오.d\n",
            "d는 소문자입니다.\n"
          ]
        }
      ]
    }
  ]
}